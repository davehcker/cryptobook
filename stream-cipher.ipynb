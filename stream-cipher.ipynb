{
 "cells": [
  {
   "cell_type": "markdown",
   "metadata": {},
   "source": [
    "### Symmetric Cryptography\n"
   ]
  },
  {
   "cell_type": "code",
   "execution_count": 508,
   "metadata": {},
   "outputs": [],
   "source": [
    "# Random generator for generating streams of random numbers\n",
    "def lcg(modulus=2**31, a=1103515245, c=12345, seed=12345):\n",
    "    \"\"\"Linear congruential generator.\"\"\"\n",
    "    while True:\n",
    "        seed = (a * seed + c) % modulus\n",
    "        yield seed"
   ]
  },
  {
   "cell_type": "markdown",
   "metadata": {},
   "source": [
    "# Stream Ciphers\n",
    "NOTE: there are two major types of symmetric ciphers (Block vs Stream)\n",
    "\n",
    "There are two major categories of stream ciphers:\n",
    "1. Synchronous\n",
    "2. Self-synchronizing\n"
   ]
  },
  {
   "cell_type": "markdown",
   "metadata": {},
   "source": [
    "## Encrypt and decryption in Stream Ciphers are same function\n",
    "\n",
    "$$ \\textbf{Encryption} : y_{i} = e_{s_{i}}(x_{i}) \\equiv x_{i} + s_{i} mod\\ 2$$\n",
    "$$ \\textbf{Decryption} : x_{i} = d_{s_{i}}(x_{i}) \\equiv x_{i} + s_{i} mod\\ 2$$\n",
    "\n",
    "TODO: mention that mod 2 is actually an XOR operation."
   ]
  },
  {
   "cell_type": "code",
   "execution_count": 518,
   "metadata": {},
   "outputs": [],
   "source": [
    "#Problem: Encrypt this message using stream cipher.\n",
    "secret_key = 13\n",
    "message = b\"This is some kind of weird secret\""
   ]
  },
  {
   "cell_type": "code",
   "execution_count": 521,
   "metadata": {},
   "outputs": [],
   "source": [
    "def encrypt(message, key):\n",
    "    \"\"\"Encrypte a message by XOR-ing every byte with a random byte\"\"\"\n",
    "    prng = lcg(seed=key)\n",
    "    return bytes([each ^ (next(prng) % 256) for each in message])\n",
    "        \n",
    "def decrypt(message, key):\n",
    "    \"\"\"Decryption is actually same as encryption! Why?\"\"\"\n",
    "    return encrypt(message, key)"
   ]
  },
  {
   "cell_type": "markdown",
   "metadata": {},
   "source": [
    "#### Encrypting the message"
   ]
  },
  {
   "cell_type": "code",
   "execution_count": 522,
   "metadata": {},
   "outputs": [
    {
     "name": "stdout",
     "output_type": "stream",
     "text": [
      "The Encrypted message is: \n",
      " b'\\x96\\xbbyz.FO\\xe5{k[(\\x8bW\\xb8\\x18R\\xb0%\\x1a\\xccz\\x18'\n"
     ]
    }
   ],
   "source": [
    "encrypted_message = encrypt(b'This is a simple secret', secret_key)\n",
    "print(\"The Encrypted message is: \\n\", encrypted_message)"
   ]
  },
  {
   "cell_type": "markdown",
   "metadata": {},
   "source": [
    "#### Decrypting the message"
   ]
  },
  {
   "cell_type": "code",
   "execution_count": 517,
   "metadata": {},
   "outputs": [
    {
     "name": "stdout",
     "output_type": "stream",
     "text": [
      "The Decrypted message is: \n",
      " b'This is a simple secret'\n"
     ]
    }
   ],
   "source": [
    "print(\"The Decrypted message is: \\n\", decrypt(encrypted_message, secret_key))"
   ]
  }
 ],
 "metadata": {
  "kernelspec": {
   "display_name": "Python 3",
   "language": "python",
   "name": "python3"
  },
  "language_info": {
   "codemirror_mode": {
    "name": "ipython",
    "version": 3
   },
   "file_extension": ".py",
   "mimetype": "text/x-python",
   "name": "python",
   "nbconvert_exporter": "python",
   "pygments_lexer": "ipython3",
   "version": "3.7.6"
  }
 },
 "nbformat": 4,
 "nbformat_minor": 2
}
